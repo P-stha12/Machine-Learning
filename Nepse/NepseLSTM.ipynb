{
  "nbformat": 4,
  "nbformat_minor": 0,
  "metadata": {
    "colab": {
      "name": "NepseLSTM.ipynb",
      "provenance": []
    },
    "kernelspec": {
      "name": "python3",
      "display_name": "Python 3"
    },
    "language_info": {
      "name": "python"
    }
  },
  "cells": [
    {
      "cell_type": "code",
      "metadata": {
        "id": "lh5ouphOqy44"
      },
      "source": [
        "import math\n",
        "import matplotlib.pyplot as plt\n",
        "import keras\n",
        "import pandas as pd\n",
        "import numpy as np\n",
        "from keras.models import Sequential\n",
        "from keras.layers import Dense\n",
        "from keras.layers import LSTM\n",
        "from keras.layers import Dropout\n",
        "from sklearn.preprocessing import MinMaxScaler\n",
        "from sklearn.metrics import mean_squared_error\n",
        "from sklearn.metrics import mean_absolute_error\n",
        "from sklearn.model_selection import train_test_split\n",
        "from keras.callbacks import EarlyStopping"
      ],
      "execution_count": 1,
      "outputs": []
    },
    {
      "cell_type": "code",
      "metadata": {
        "colab": {
          "resources": {
            "http://localhost:8080/nbextensions/google.colab/files.js": {
              "data": "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",
              "ok": true,
              "headers": [
                [
                  "content-type",
                  "application/javascript"
                ]
              ],
              "status": 200,
              "status_text": ""
            }
          },
          "base_uri": "https://localhost:8080/",
          "height": 72
        },
        "id": "fpplAFPJq3RI",
        "outputId": "0ccf33ee-a7e3-43e7-a556-41f7441abed5"
      },
      "source": [
        "from google.colab import files\n",
        "uploaded = files.upload()"
      ],
      "execution_count": 2,
      "outputs": [
        {
          "output_type": "display_data",
          "data": {
            "text/html": [
              "\n",
              "     <input type=\"file\" id=\"files-e86fd522-0db5-420b-801d-de318ab0debb\" name=\"files[]\" multiple disabled\n",
              "        style=\"border:none\" />\n",
              "     <output id=\"result-e86fd522-0db5-420b-801d-de318ab0debb\">\n",
              "      Upload widget is only available when the cell has been executed in the\n",
              "      current browser session. Please rerun this cell to enable.\n",
              "      </output>\n",
              "      <script src=\"/nbextensions/google.colab/files.js\"></script> "
            ],
            "text/plain": [
              "<IPython.core.display.HTML object>"
            ]
          },
          "metadata": {}
        },
        {
          "output_type": "stream",
          "name": "stdout",
          "text": [
            "Saving nepse.csv to nepse.csv\n"
          ]
        }
      ]
    },
    {
      "cell_type": "code",
      "metadata": {
        "colab": {
          "base_uri": "https://localhost:8080/",
          "height": 221
        },
        "id": "ZWxuKva0q_mz",
        "outputId": "2e227c26-da1f-4826-c12c-87685fa17c2f"
      },
      "source": [
        "df=pd.read_csv(\"nepse.csv\")\n",
        "print(df.shape)\n",
        "df = df.sort_index(ascending=False, axis=0)\n",
        "df = df.reset_index()\n",
        "df = df.drop(\"index\", axis = 1)\n",
        "df.head()"
      ],
      "execution_count": 32,
      "outputs": [
        {
          "output_type": "stream",
          "name": "stdout",
          "text": [
            "(1680, 2)\n"
          ]
        },
        {
          "output_type": "execute_result",
          "data": {
            "text/html": [
              "<div>\n",
              "<style scoped>\n",
              "    .dataframe tbody tr th:only-of-type {\n",
              "        vertical-align: middle;\n",
              "    }\n",
              "\n",
              "    .dataframe tbody tr th {\n",
              "        vertical-align: top;\n",
              "    }\n",
              "\n",
              "    .dataframe thead th {\n",
              "        text-align: right;\n",
              "    }\n",
              "</style>\n",
              "<table border=\"1\" class=\"dataframe\">\n",
              "  <thead>\n",
              "    <tr style=\"text-align: right;\">\n",
              "      <th></th>\n",
              "      <th>Date</th>\n",
              "      <th>Index</th>\n",
              "    </tr>\n",
              "  </thead>\n",
              "  <tbody>\n",
              "    <tr>\n",
              "      <th>0</th>\n",
              "      <td>2014-02-02</td>\n",
              "      <td>775.92</td>\n",
              "    </tr>\n",
              "    <tr>\n",
              "      <th>1</th>\n",
              "      <td>2014-02-03</td>\n",
              "      <td>769.51</td>\n",
              "    </tr>\n",
              "    <tr>\n",
              "      <th>2</th>\n",
              "      <td>2014-02-04</td>\n",
              "      <td>774.91</td>\n",
              "    </tr>\n",
              "    <tr>\n",
              "      <th>3</th>\n",
              "      <td>2014-02-05</td>\n",
              "      <td>781.38</td>\n",
              "    </tr>\n",
              "    <tr>\n",
              "      <th>4</th>\n",
              "      <td>2014-02-06</td>\n",
              "      <td>785.78</td>\n",
              "    </tr>\n",
              "  </tbody>\n",
              "</table>\n",
              "</div>"
            ],
            "text/plain": [
              "         Date   Index\n",
              "0  2014-02-02  775.92\n",
              "1  2014-02-03  769.51\n",
              "2  2014-02-04  774.91\n",
              "3  2014-02-05  781.38\n",
              "4  2014-02-06  785.78"
            ]
          },
          "metadata": {},
          "execution_count": 32
        }
      ]
    },
    {
      "cell_type": "code",
      "metadata": {
        "id": "k0zDHGbsrMf8"
      },
      "source": [
        "training_set = df.iloc[:800, 1:2].values\n",
        "test_set = df.iloc[800:, 1:2].values"
      ],
      "execution_count": 33,
      "outputs": []
    },
    {
      "cell_type": "code",
      "metadata": {
        "id": "irPMqoaZrQnE"
      },
      "source": [
        "scaler = MinMaxScaler(feature_range = (0, 1))\n",
        "scaled_training = scaler.fit_transform(training_set)\n",
        "# Creating a data structure with 60 time-steps and 1 output\n",
        "X_train = []\n",
        "y_train = []\n",
        "for i in range(60, 800):\n",
        "    X_train.append(scaled_training[i-60:i, 0])\n",
        "    y_train.append(scaled_training[i, 0])\n",
        "X_train, y_train = np.array(X_train), np.array(y_train)\n",
        "X_train = np.reshape(X_train, (X_train.shape[0], X_train.shape[1], 1))"
      ],
      "execution_count": 34,
      "outputs": []
    },
    {
      "cell_type": "code",
      "metadata": {
        "colab": {
          "base_uri": "https://localhost:8080/"
        },
        "id": "N1eCbggyrTP6",
        "outputId": "f7eae00d-f758-4733-ab3a-f91e3d6420af"
      },
      "source": [
        "model = Sequential()\n",
        "\n",
        "model.add(LSTM(units = 50, return_sequences = True, input_shape = (X_train.shape[1], 1)))\n",
        "model.add(Dropout(0.2))\n",
        "\n",
        "model.add(LSTM(units = 50, return_sequences = True))\n",
        "model.add(Dropout(0.2))\n",
        "\n",
        "model.add(LSTM(units = 50, return_sequences = True))\n",
        "model.add(Dropout(0.2))\n",
        "\n",
        "model.add(LSTM(units = 50))\n",
        "model.add(Dropout(0.2))\n",
        "\n",
        "model.add(Dense(units = 1))\n",
        "\n",
        "model.compile(optimizer = 'adam', loss = 'mean_squared_error')\n",
        "model.fit(X_train, y_train, epochs = 100, batch_size = 32)"
      ],
      "execution_count": 35,
      "outputs": [
        {
          "output_type": "stream",
          "name": "stdout",
          "text": [
            "Epoch 1/100\n",
            "24/24 [==============================] - 7s 91ms/step - loss: 0.0536\n",
            "Epoch 2/100\n",
            "24/24 [==============================] - 2s 88ms/step - loss: 0.0123\n",
            "Epoch 3/100\n",
            "24/24 [==============================] - 2s 89ms/step - loss: 0.0089\n",
            "Epoch 4/100\n",
            "24/24 [==============================] - 2s 91ms/step - loss: 0.0084\n",
            "Epoch 5/100\n",
            "24/24 [==============================] - 2s 90ms/step - loss: 0.0067\n",
            "Epoch 6/100\n",
            "24/24 [==============================] - 2s 90ms/step - loss: 0.0065\n",
            "Epoch 7/100\n",
            "24/24 [==============================] - 2s 90ms/step - loss: 0.0058\n",
            "Epoch 8/100\n",
            "24/24 [==============================] - 2s 91ms/step - loss: 0.0064\n",
            "Epoch 9/100\n",
            "24/24 [==============================] - 2s 89ms/step - loss: 0.0062\n",
            "Epoch 10/100\n",
            "24/24 [==============================] - 2s 89ms/step - loss: 0.0055\n",
            "Epoch 11/100\n",
            "24/24 [==============================] - 2s 88ms/step - loss: 0.0050\n",
            "Epoch 12/100\n",
            "24/24 [==============================] - 2s 89ms/step - loss: 0.0046\n",
            "Epoch 13/100\n",
            "24/24 [==============================] - 2s 87ms/step - loss: 0.0054\n",
            "Epoch 14/100\n",
            "24/24 [==============================] - 2s 88ms/step - loss: 0.0055\n",
            "Epoch 15/100\n",
            "24/24 [==============================] - 2s 88ms/step - loss: 0.0050\n",
            "Epoch 16/100\n",
            "24/24 [==============================] - 2s 89ms/step - loss: 0.0048\n",
            "Epoch 17/100\n",
            "24/24 [==============================] - 2s 89ms/step - loss: 0.0054\n",
            "Epoch 18/100\n",
            "24/24 [==============================] - 2s 90ms/step - loss: 0.0044\n",
            "Epoch 19/100\n",
            "24/24 [==============================] - 2s 89ms/step - loss: 0.0054\n",
            "Epoch 20/100\n",
            "24/24 [==============================] - 2s 90ms/step - loss: 0.0055\n",
            "Epoch 21/100\n",
            "24/24 [==============================] - 2s 89ms/step - loss: 0.0046\n",
            "Epoch 22/100\n",
            "24/24 [==============================] - 2s 90ms/step - loss: 0.0039\n",
            "Epoch 23/100\n",
            "24/24 [==============================] - 2s 88ms/step - loss: 0.0041\n",
            "Epoch 24/100\n",
            "24/24 [==============================] - 2s 89ms/step - loss: 0.0036\n",
            "Epoch 25/100\n",
            "24/24 [==============================] - 2s 89ms/step - loss: 0.0038\n",
            "Epoch 26/100\n",
            "24/24 [==============================] - 2s 89ms/step - loss: 0.0052\n",
            "Epoch 27/100\n",
            "24/24 [==============================] - 2s 88ms/step - loss: 0.0035\n",
            "Epoch 28/100\n",
            "24/24 [==============================] - 2s 90ms/step - loss: 0.0035\n",
            "Epoch 29/100\n",
            "24/24 [==============================] - 2s 90ms/step - loss: 0.0039\n",
            "Epoch 30/100\n",
            "24/24 [==============================] - 2s 89ms/step - loss: 0.0038\n",
            "Epoch 31/100\n",
            "24/24 [==============================] - 2s 89ms/step - loss: 0.0055\n",
            "Epoch 32/100\n",
            "24/24 [==============================] - 2s 87ms/step - loss: 0.0034\n",
            "Epoch 33/100\n",
            "24/24 [==============================] - 2s 89ms/step - loss: 0.0030\n",
            "Epoch 34/100\n",
            "24/24 [==============================] - 2s 87ms/step - loss: 0.0031\n",
            "Epoch 35/100\n",
            "24/24 [==============================] - 2s 89ms/step - loss: 0.0036\n",
            "Epoch 36/100\n",
            "24/24 [==============================] - 2s 89ms/step - loss: 0.0033\n",
            "Epoch 37/100\n",
            "24/24 [==============================] - 2s 88ms/step - loss: 0.0032\n",
            "Epoch 38/100\n",
            "24/24 [==============================] - 2s 89ms/step - loss: 0.0034\n",
            "Epoch 39/100\n",
            "24/24 [==============================] - 2s 89ms/step - loss: 0.0032\n",
            "Epoch 40/100\n",
            "24/24 [==============================] - 2s 90ms/step - loss: 0.0034\n",
            "Epoch 41/100\n",
            "24/24 [==============================] - 2s 88ms/step - loss: 0.0035\n",
            "Epoch 42/100\n",
            "24/24 [==============================] - 2s 88ms/step - loss: 0.0031\n",
            "Epoch 43/100\n",
            "24/24 [==============================] - 2s 88ms/step - loss: 0.0030\n",
            "Epoch 44/100\n",
            "24/24 [==============================] - 2s 89ms/step - loss: 0.0028\n",
            "Epoch 45/100\n",
            "24/24 [==============================] - 2s 89ms/step - loss: 0.0030\n",
            "Epoch 46/100\n",
            "24/24 [==============================] - 2s 88ms/step - loss: 0.0030\n",
            "Epoch 47/100\n",
            "24/24 [==============================] - 2s 88ms/step - loss: 0.0034\n",
            "Epoch 48/100\n",
            "24/24 [==============================] - 2s 88ms/step - loss: 0.0029\n",
            "Epoch 49/100\n",
            "24/24 [==============================] - 2s 89ms/step - loss: 0.0026\n",
            "Epoch 50/100\n",
            "24/24 [==============================] - 2s 89ms/step - loss: 0.0028\n",
            "Epoch 51/100\n",
            "24/24 [==============================] - 2s 89ms/step - loss: 0.0027\n",
            "Epoch 52/100\n",
            "24/24 [==============================] - 2s 89ms/step - loss: 0.0032\n",
            "Epoch 53/100\n",
            "24/24 [==============================] - 2s 89ms/step - loss: 0.0033\n",
            "Epoch 54/100\n",
            "24/24 [==============================] - 2s 89ms/step - loss: 0.0027\n",
            "Epoch 55/100\n",
            "24/24 [==============================] - 2s 88ms/step - loss: 0.0027\n",
            "Epoch 56/100\n",
            "24/24 [==============================] - 2s 87ms/step - loss: 0.0032\n",
            "Epoch 57/100\n",
            "24/24 [==============================] - 2s 90ms/step - loss: 0.0027\n",
            "Epoch 58/100\n",
            "24/24 [==============================] - 2s 89ms/step - loss: 0.0024\n",
            "Epoch 59/100\n",
            "24/24 [==============================] - 2s 88ms/step - loss: 0.0028\n",
            "Epoch 60/100\n",
            "24/24 [==============================] - 2s 89ms/step - loss: 0.0030\n",
            "Epoch 61/100\n",
            "24/24 [==============================] - 2s 89ms/step - loss: 0.0026\n",
            "Epoch 62/100\n",
            "24/24 [==============================] - 2s 88ms/step - loss: 0.0026\n",
            "Epoch 63/100\n",
            "24/24 [==============================] - 2s 89ms/step - loss: 0.0024\n",
            "Epoch 64/100\n",
            "24/24 [==============================] - 2s 89ms/step - loss: 0.0023\n",
            "Epoch 65/100\n",
            "24/24 [==============================] - 2s 89ms/step - loss: 0.0025\n",
            "Epoch 66/100\n",
            "24/24 [==============================] - 2s 89ms/step - loss: 0.0025\n",
            "Epoch 67/100\n",
            "24/24 [==============================] - 2s 91ms/step - loss: 0.0021\n",
            "Epoch 68/100\n",
            "24/24 [==============================] - 2s 89ms/step - loss: 0.0024\n",
            "Epoch 69/100\n",
            "24/24 [==============================] - 2s 90ms/step - loss: 0.0022\n",
            "Epoch 70/100\n",
            "24/24 [==============================] - 2s 90ms/step - loss: 0.0024\n",
            "Epoch 71/100\n",
            "24/24 [==============================] - 2s 91ms/step - loss: 0.0024\n",
            "Epoch 72/100\n",
            "24/24 [==============================] - 2s 90ms/step - loss: 0.0020\n",
            "Epoch 73/100\n",
            "24/24 [==============================] - 2s 89ms/step - loss: 0.0024\n",
            "Epoch 74/100\n",
            "24/24 [==============================] - 2s 88ms/step - loss: 0.0020\n",
            "Epoch 75/100\n",
            "24/24 [==============================] - 2s 88ms/step - loss: 0.0022\n",
            "Epoch 76/100\n",
            "24/24 [==============================] - 2s 88ms/step - loss: 0.0021\n",
            "Epoch 77/100\n",
            "24/24 [==============================] - 2s 89ms/step - loss: 0.0019\n",
            "Epoch 78/100\n",
            "24/24 [==============================] - 2s 90ms/step - loss: 0.0022\n",
            "Epoch 79/100\n",
            "24/24 [==============================] - 2s 89ms/step - loss: 0.0023\n",
            "Epoch 80/100\n",
            "24/24 [==============================] - 2s 88ms/step - loss: 0.0022\n",
            "Epoch 81/100\n",
            "24/24 [==============================] - 2s 90ms/step - loss: 0.0022\n",
            "Epoch 82/100\n",
            "24/24 [==============================] - 2s 90ms/step - loss: 0.0024\n",
            "Epoch 83/100\n",
            "24/24 [==============================] - 2s 88ms/step - loss: 0.0023\n",
            "Epoch 84/100\n",
            "24/24 [==============================] - 2s 89ms/step - loss: 0.0021\n",
            "Epoch 85/100\n",
            "24/24 [==============================] - 2s 89ms/step - loss: 0.0021\n",
            "Epoch 86/100\n",
            "24/24 [==============================] - 2s 88ms/step - loss: 0.0018\n",
            "Epoch 87/100\n",
            "24/24 [==============================] - 2s 89ms/step - loss: 0.0022\n",
            "Epoch 88/100\n",
            "24/24 [==============================] - 2s 89ms/step - loss: 0.0019\n",
            "Epoch 89/100\n",
            "24/24 [==============================] - 2s 89ms/step - loss: 0.0019\n",
            "Epoch 90/100\n",
            "24/24 [==============================] - 2s 90ms/step - loss: 0.0019\n",
            "Epoch 91/100\n",
            "24/24 [==============================] - 2s 89ms/step - loss: 0.0019\n",
            "Epoch 92/100\n",
            "24/24 [==============================] - 2s 90ms/step - loss: 0.0017\n",
            "Epoch 93/100\n",
            "24/24 [==============================] - 2s 89ms/step - loss: 0.0020\n",
            "Epoch 94/100\n",
            "24/24 [==============================] - 2s 89ms/step - loss: 0.0019\n",
            "Epoch 95/100\n",
            "24/24 [==============================] - 2s 88ms/step - loss: 0.0019\n",
            "Epoch 96/100\n",
            "24/24 [==============================] - 2s 88ms/step - loss: 0.0022\n",
            "Epoch 97/100\n",
            "24/24 [==============================] - 2s 89ms/step - loss: 0.0020\n",
            "Epoch 98/100\n",
            "24/24 [==============================] - 2s 89ms/step - loss: 0.0019\n",
            "Epoch 99/100\n",
            "24/24 [==============================] - 2s 91ms/step - loss: 0.0022\n",
            "Epoch 100/100\n",
            "24/24 [==============================] - 2s 90ms/step - loss: 0.0020\n"
          ]
        },
        {
          "output_type": "execute_result",
          "data": {
            "text/plain": [
              "<keras.callbacks.History at 0x7f1ed287e150>"
            ]
          },
          "metadata": {},
          "execution_count": 35
        }
      ]
    },
    {
      "cell_type": "code",
      "metadata": {
        "colab": {
          "base_uri": "https://localhost:8080/"
        },
        "id": "6Y7HbH0vrYAZ",
        "outputId": "fbcffef6-dda5-4004-fea1-5b86b2ee6e1c"
      },
      "source": [
        "dataset_train = df.iloc[:800, 1:2]\n",
        "dataset_test = df.iloc[800:, 1:2]\n",
        "dataset_total = pd.concat((dataset_train, dataset_test), axis = 0)\n",
        "inputs = dataset_total[len(dataset_total) - len(dataset_test) - 60:].values\n",
        "inputs = inputs.reshape(-1,1)\n",
        "inputs = scaler.transform(inputs)\n",
        "X_test = []\n",
        "for i in range(60, 940):\n",
        "    X_test.append(inputs[i-60:i, 0])\n",
        "X_test = np.array(X_test)\n",
        "X_test = np.reshape(X_test, (X_test.shape[0], X_test.shape[1], 1))\n",
        "print(X_test.shape)"
      ],
      "execution_count": 36,
      "outputs": [
        {
          "output_type": "stream",
          "name": "stdout",
          "text": [
            "(880, 60, 1)\n"
          ]
        }
      ]
    },
    {
      "cell_type": "code",
      "metadata": {
        "id": "wGEchBVjsJAT"
      },
      "source": [
        "predicted_stock_price = model.predict(X_test)\n",
        "predicted_stock_price = scaler.inverse_transform(predicted_stock_price)"
      ],
      "execution_count": 37,
      "outputs": []
    },
    {
      "cell_type": "code",
      "metadata": {
        "colab": {
          "base_uri": "https://localhost:8080/"
        },
        "id": "Q2Mzuw2GtGXa",
        "outputId": "e0036627-6eb9-427a-d966-5dbd1963fb07"
      },
      "source": [
        "predicted_stock_price.shape"
      ],
      "execution_count": 16,
      "outputs": [
        {
          "output_type": "execute_result",
          "data": {
            "text/plain": [
              "(880, 1)"
            ]
          },
          "metadata": {},
          "execution_count": 16
        }
      ]
    },
    {
      "cell_type": "code",
      "metadata": {
        "colab": {
          "base_uri": "https://localhost:8080/",
          "height": 621
        },
        "id": "EEPanM85sK13",
        "outputId": "2198263c-88a2-4163-a30d-08e4322a1995"
      },
      "source": [
        "# Visualising the results\n",
        "f = plt.figure()\n",
        "f.set_figwidth(10)\n",
        "f.set_figheight(10)\n",
        "plt.plot(df.loc[800:, \"Date\"],dataset_test.values, color = \"red\", label = \"Real Nepse\")\n",
        "plt.plot(df.loc[800:, \"Date\"],predicted_stock_price, color = \"blue\", label = \"Predicted Nepse\")\n",
        "plt.xticks(np.arange(0,880,50))\n",
        "plt.title('Nepse Prediction')\n",
        "plt.xlabel('Time')\n",
        "plt.ylabel('Nepse')\n",
        "plt.legend()\n",
        "plt.show()"
      ],
      "execution_count": 40,
      "outputs": [
        {
          "output_type": "display_data",
          "data": {
            "image/png": "[encoded data removed]",
            "text/plain": [
              "<Figure size 720x720 with 1 Axes>"
            ]
          },
          "metadata": {
            "needs_background": "light"
          }
        }
      ]
    },
    {
      "cell_type": "code",
      "metadata": {
        "id": "U3i7METbsYJP"
      },
      "source": [
        ""
      ],
      "execution_count": null,
      "outputs": []
    }
  ]
}